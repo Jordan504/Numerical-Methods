{
  "nbformat": 4,
  "nbformat_minor": 0,
  "metadata": {
    "colab": {
      "provenance": [],
      "authorship_tag": "ABX9TyMjvJ4kOTCysBgScFQGafOO",
      "include_colab_link": true
    },
    "kernelspec": {
      "name": "python3",
      "display_name": "Python 3"
    },
    "language_info": {
      "name": "python"
    }
  },
  "cells": [
    {
      "cell_type": "markdown",
      "metadata": {
        "id": "view-in-github",
        "colab_type": "text"
      },
      "source": [
        "<a href=\"https://colab.research.google.com/github/aayushbhurtel/Numerical-Methods/blob/main/BhurtelAayush.ipynb\" target=\"_parent\"><img src=\"https://colab.research.google.com/assets/colab-badge.svg\" alt=\"Open In Colab\"/></a>"
      ]
    },
    {
      "cell_type": "markdown",
      "source": [
        "## Interpolation ##"
      ],
      "metadata": {
        "id": "_CSgKozVtill"
      }
    },
    {
      "cell_type": "markdown",
      "source": [
        "here is an updated Gauss-Jordan algorithm for solving system of Linear Equation."
      ],
      "metadata": {
        "id": "gG82LVr9vX6_"
      }
    },
    {
      "cell_type": "code",
      "source": [
        "import numpy as np\n",
        "\n",
        "def gaussJordan(matrix):\n",
        "  n = len(matrix)\n",
        "  for pivot in range(n):\n",
        "    # Make the pivot element 1\n",
        "    matrix[pivot, :] = matrix[pivot, :] / matrix[pivot, pivot]\n",
        "\n",
        "    # Make all other elements in the same column as the pivot element zero\n",
        "    for row in range(n):\n",
        "      if row != pivot:\n",
        "        matrix[row, :] = matrix[row, :] - matrix[row, pivot] * matrix[pivot, :]\n",
        "\n",
        "  return matrix\n"
      ],
      "metadata": {
        "id": "HyS3WM9QvWrF"
      },
      "execution_count": null,
      "outputs": []
    },
    {
      "cell_type": "markdown",
      "source": [
        "lets test the above code to make sure it works:\n",
        "we're gonna use following as test matrix.\n",
        "\n",
        "\n",
        "matrix = np.array\n",
        "([[1, 1, 1],\n",
        "[0, 1, 1],\n",
        "[0, 0, 1]])"
      ],
      "metadata": {
        "id": "R8zMWJ3BzbT9"
      }
    },
    {
      "cell_type": "code",
      "source": [
        "matrix = np.array([[1, 1, 1],\n",
        "                  [0, 1, 1],\n",
        "                  [0, 0, 1]])\n",
        "\n",
        "# functn to print\n",
        "def print_matrix(matrix):\n",
        "  for row in matrix:\n",
        "    print(row)\n",
        "  print()\n",
        "\n",
        "# printouts\n",
        "print(\"Original Matrix:\")\n",
        "print_matrix(matrix)\n",
        "result1 = gaussJordan(matrix)\n",
        "\n",
        "print(\"Reduced Row-Echelon Form Matrix:\")\n",
        "print_matrix(result1)"
      ],
      "metadata": {
        "colab": {
          "base_uri": "https://localhost:8080/"
        },
        "id": "Kx_WdClfztNR",
        "outputId": "f694bae8-b5e7-43f6-cfab-4d62ac81810a"
      },
      "execution_count": null,
      "outputs": [
        {
          "output_type": "stream",
          "name": "stdout",
          "text": [
            "Original Matrix:\n",
            "[1 1 1]\n",
            "[0 1 1]\n",
            "[0 0 1]\n",
            "\n",
            "Reduced Row-Echelon Form Matrix:\n",
            "[1 0 0]\n",
            "[0 1 0]\n",
            "[0 0 1]\n",
            "\n"
          ]
        }
      ]
    },
    {
      "cell_type": "markdown",
      "source": [],
      "metadata": {
        "id": "zrCyMRsp4q3E"
      }
    }
  ]
}